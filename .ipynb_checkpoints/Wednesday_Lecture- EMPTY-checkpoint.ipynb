{
 "cells": [
  {
   "cell_type": "markdown",
   "metadata": {},
   "source": [
    "# Data Collections 2 (Dictionaries, Sets) and Importing Modules"
   ]
  },
  {
   "cell_type": "markdown",
   "metadata": {},
   "source": [
    "## Tasks Today:\n",
    "\n",
    "1) Dictionary <br>\n",
    " &nbsp;&nbsp;&nbsp;&nbsp; a) Declaring (key, value) <br>\n",
    " &nbsp;&nbsp;&nbsp;&nbsp; b) Accessing Values <br>\n",
    " &nbsp;&nbsp;&nbsp;&nbsp; ------ Exercise #1 - Print the eye color of each person in a double nested dict <br>\n",
    " &nbsp;&nbsp;&nbsp;&nbsp; c) Adding New Pairs <br>\n",
    " &nbsp;&nbsp;&nbsp;&nbsp; d) Modifying Values <br>\n",
    " &nbsp;&nbsp;&nbsp;&nbsp; e) Removing Key, Value Pairs <br>\n",
    " &nbsp;&nbsp;&nbsp;&nbsp; f) Looping a Dictionary <br>\n",
    " &nbsp;&nbsp;&nbsp;&nbsp; g) Looping Only Keys <br>\n",
    " &nbsp;&nbsp;&nbsp;&nbsp; h) Looping Only Values <br>\n",
    " &nbsp;&nbsp;&nbsp;&nbsp; ------ Exercise #2 - Create a Function that Prints All Key Value Pairs within a print .format()  <br>\n",
    " &nbsp;&nbsp;&nbsp;&nbsp; i) sorted() <br>\n",
    " &nbsp;&nbsp;&nbsp;&nbsp; j) Lists with Dictionaries <br>\n",
    " &nbsp;&nbsp;&nbsp;&nbsp; k) Dictionaries with Lists <br>\n",
    " &nbsp;&nbsp;&nbsp;&nbsp; l) Dictionaries with Dictionaries <br>\n",
    " &nbsp;&nbsp;&nbsp;&nbsp; ------ Exercise #3 - Write a Function that asks someone's name and address, and then stores that into a dictionary, which prints all names and addresses after they're done putting information in...  <br>\n",
    "2) Set <br>\n",
    " &nbsp;&nbsp;&nbsp;&nbsp; a) Declaring <br>\n",
    " &nbsp;&nbsp;&nbsp;&nbsp; b) .add() <br>\n",
    " &nbsp;&nbsp;&nbsp;&nbsp; c) .remove() <br>\n",
    " &nbsp;&nbsp;&nbsp;&nbsp; d) .union() <br>\n",
    " &nbsp;&nbsp;&nbsp;&nbsp; e) .intersection() <br>\n",
    " &nbsp;&nbsp;&nbsp;&nbsp; f) .difference() <br>\n",
    " &nbsp;&nbsp;&nbsp;&nbsp; g) Frozen Set <br>\n",
    "3) Modules <br>\n",
    " &nbsp;&nbsp;&nbsp;&nbsp; a) Importing Entire Modules <br>\n",
    " &nbsp;&nbsp;&nbsp;&nbsp; b) Importing Methods Only <br>\n",
    " &nbsp;&nbsp;&nbsp;&nbsp; c) Using the 'as' Keyword <br>\n",
    " &nbsp;&nbsp;&nbsp;&nbsp; d) Creating a Module <br>\n",
    "4) Exercises <br>\n",
    " &nbsp;&nbsp;&nbsp;&nbsp; a) Build a Shopping Cart <br>\n",
    " &nbsp;&nbsp;&nbsp;&nbsp; b) Create Your Own Module <br>"
   ]
  },
  {
   "cell_type": "markdown",
   "metadata": {},
   "source": [
    "##### First White Board"
   ]
  },
  {
   "cell_type": "code",
   "execution_count": null,
   "metadata": {},
   "outputs": [],
   "source": [
    "# I have a list of of all the students in class\n",
    "students=[\"Andrew\",\"Apollo\",\"Cole\",\"David\",\"Dereck\",\"Felix\",\"Jessica\",\"John\", \"Robert\", \"Saed\", \"Tony\", \"William\" ]\n",
    "# David and Andrew need to meet me after class\n",
    "# Felix and Jessica need to do more Codewars\n",
    "# Robert and William and John need to finish their homework\n",
    "# and everybody else is good to go.\n",
    "# Write a function that takes a students name as an argument and returns what that student needs to do.  \n",
    "# Make sure to make the name argument case-insensitive\n",
    "# If the person in not in the class return \"Get Out of My Class\"\n",
    "#ex) what_to_do(\"David\") returns: \"Meet With Me After Class\"\n",
    "#ex) what_to_do(\"Joe\") returns: \"Get Out Of My Class\"\n",
    "#ex) what_to_do(\"Saed\") returns: \"You are Good to Go!\"\n",
    "#ex) what_to_do(\"felix\") returns: \"Do More Code Wars\"\n",
    "#ex) what_to_do(\"john\") returns: \"Finish your Homework\""
   ]
  },
  {
   "cell_type": "code",
   "execution_count": 25,
   "metadata": {},
   "outputs": [
    {
     "name": "stdout",
     "output_type": "stream",
     "text": [
      "What is your name, student? cole\n"
     ]
    },
    {
     "data": {
      "text/plain": [
       "'You are Good to Go!'"
      ]
     },
     "execution_count": 25,
     "metadata": {},
     "output_type": "execute_result"
    }
   ],
   "source": [
    "# Function \n",
    "# input is student (string)\n",
    "# output is what the student needs to do (string)\n",
    "\n",
    "# trying if statement first\n",
    "\n",
    "# students=[\"Andrew\",\"Apollo\",\"Cole\",\"David\",\"Dereck\",\"Felix\",\"Jessica\",\"John\", \"Robert\", \"Saed\", \"Tony\", \"William\" ]\n",
    "\n",
    "def what_to_do():\n",
    "    student=input(\"What is your name, student? \")\n",
    "    if student.title() == \"David\" or student.title() == \"Andrew\":\n",
    "        return \"Meet me After Class\"\n",
    "    elif student.title() == \"Felix\" or student.title() == \"Jessica\":\n",
    "        return \"Do more Codewars\"\n",
    "    elif student.title() == \"Robert\" or student.title() == \"William\" or student.title() == \"John\":\n",
    "        return \"Finish your Homework\"\n",
    "    elif student.title() == \"Apollo\" or student.title() == \"Cole\" or student.title() == \"Dereck\" or student.title() == \"John\" or student.title() == \"Saed\" or student.title() == \"Tony\":\n",
    "        return \"You are Good to Go!\"\n",
    "    else:\n",
    "        return \"Get the F*** out of my CLASS!!!!\"\n",
    "        \n",
    "student()"
   ]
  },
  {
   "cell_type": "code",
   "execution_count": 42,
   "metadata": {},
   "outputs": [
    {
     "name": "stdout",
     "output_type": "stream",
     "text": [
      "Meet With Me After Class\n",
      "Get Out Of My Class\n",
      "You are Good to Go!\n",
      "Do More Code Wars\n",
      "Finish your Homework!\n"
     ]
    }
   ],
   "source": [
    "# to work WITH the list\n",
    "\n",
    "students=[\"Andrew\",\"Apollo\",\"Cole\",\"David\",\"Dereck\",\"Felix\",\"Jessica\",\"John\", \"Robert\", \"Saed\", \"Tony\", \"William\" ]\n",
    "\n",
    "def what_to_do(name):\n",
    "    if name.title() not in students:\n",
    "        return \"Get Out Of My Class\"\n",
    "    elif name.lower() == \"david\" or name.lower() == \"andrew\":\n",
    "        return \"Meet With Me After Class\"\n",
    "    elif name.lower() == \"felix\" or name.lower() == \"jessica\":\n",
    "        return \"Do More Code Wars\"\n",
    "    elif name.lower() == \"robert\" or name.lower() == \"william\" or name.lower() == \"john\":\n",
    "        return \"Finish your Homework!\"\n",
    "    else:\n",
    "        return \"You are Good to Go!\"\n",
    "    \n",
    "print(what_to_do(\"David\"))\n",
    "print(what_to_do(\"Joe\"))        \n",
    "print(what_to_do(\"Saed\"))    \n",
    "print(what_to_do(\"felix\")) \n",
    "print(what_to_do(\"john\"))"
   ]
  },
  {
   "cell_type": "code",
   "execution_count": 41,
   "metadata": {},
   "outputs": [
    {
     "name": "stdout",
     "output_type": "stream",
     "text": [
      "finish your homework\n",
      "do more codewars\n",
      "your good to go!\n",
      "get out of my class\n",
      "meet me after class\n"
     ]
    }
   ],
   "source": [
    "students=[\"Andrew\",\"Apollo\",\"Cole\",\"David\",\"Dereck\",\"Felix\",\"Jessica\",\"John\", \"Robert\", \"Saed\", \"Tony\", \"William\" ]\n",
    "\n",
    "def what_to_do(name):\n",
    "    \n",
    "    if name.title() not in students:\n",
    "        return \"get out of my class\"\n",
    "    elif name.lower() == 'david' or name.lower() == 'andrew':\n",
    "        return \"meet me after class\"\n",
    "    elif name.lower() == 'felix' or name.lower() == 'jessica':\n",
    "        return \"do more codewars\"\n",
    "    elif name.lower() == 'robert' or name.lower() == 'william' or name.lower() == 'john':\n",
    "        return \"finish your homework\" \n",
    "    else:\n",
    "        return \"your good to go!\"\n",
    "\n",
    "print(what_to_do('john'))\n",
    "print(what_to_do('felix'))\n",
    "print(what_to_do('saed'))\n",
    "print(what_to_do('joe'))\n",
    "print(what_to_do('david'))  "
   ]
  },
  {
   "cell_type": "markdown",
   "metadata": {},
   "source": [
    "## Dictionary <br>\n",
    "<p>A collection of data with 'key:value' pairs. Dictionaries are ordered as of Python 3.6</p>"
   ]
  },
  {
   "cell_type": "markdown",
   "metadata": {},
   "source": [
    "##### Declaring (key, value)"
   ]
  },
  {
   "cell_type": "code",
   "execution_count": 1,
   "metadata": {},
   "outputs": [],
   "source": [
    "# key : value pairs\n",
    "# keys should be unique\n",
    "# keys can use numbers or string\n",
    "# before python 3.6 dictionaries were unordered. Now they are ordered\n",
    "\n",
    "d = {} #Empty dictionary <----- good\n",
    "print(type(d))\n",
    "d = dict() # THIS IS VERY SLOWWWWWW"
   ]
  },
  {
   "cell_type": "markdown",
   "metadata": {},
   "source": [
    "##### Accessing Values"
   ]
  },
  {
   "cell_type": "code",
   "execution_count": 46,
   "metadata": {},
   "outputs": [
    {
     "name": "stdout",
     "output_type": "stream",
     "text": [
      "{'Key': 'Value', 'name': 'Steve', 0: 'integer'}\n",
      "{'key': 'Value', 'name': 'Steve'}\n",
      "<class 'str'>\n"
     ]
    }
   ],
   "source": [
    "# Anything 'hashable' can be a KEY. Emuteable is hashable\n",
    "# ex: str, int, float, tup\n",
    "d1 = {\n",
    "    \"Key\":\"Value\",\n",
    "    \"name\" :\"Steve\",\n",
    "    0:\"integer\"\n",
    "}\n",
    "\n",
    "print(d1)\n",
    "\n",
    "d = dict(key=\"Value\",name=\"Steve\") # SLOWWWWW WAY\n",
    "print(d)\n",
    "\n",
    "d1['Key']\n",
    "print(type(d1['Key']))"
   ]
  },
  {
   "cell_type": "markdown",
   "metadata": {},
   "source": [
    "## In-Class Exercise #1 - Print a formatted statement from the dictionary below <br>\n",
    "<p>The output should be '2018 Chevrolet Silverado'</p>"
   ]
  },
  {
   "cell_type": "code",
   "execution_count": 52,
   "metadata": {},
   "outputs": [
    {
     "name": "stdout",
     "output_type": "stream",
     "text": [
      "I have a 2018 Chevrolet Silverado\n",
      "I have a 2018 Chevrolet Silverado\n"
     ]
    },
    {
     "data": {
      "text/plain": [
       "'I have a 2018 Chevrolet Silverado'"
      ]
     },
     "execution_count": 52,
     "metadata": {},
     "output_type": "execute_result"
    }
   ],
   "source": [
    "# use the dict below\n",
    "#Output: I have a 2018 Chevrolet Silverado\n",
    "truck = {\n",
    "    'year': 2018,\n",
    "    'make': 'Chevrolet',\n",
    "    'model': 'Silverado'\n",
    "}\n",
    "\n",
    "print(\"I have a \" + str(truck['year']) + ' ' + truck['make'] + ' ' + truck['model']) #bad way\n",
    "print(f\"I have a {truck['year']} {truck['make']} {truck['model']}\") # f string\n",
    "\n",
    "def truck_type():\n",
    "    return f\"I have a {truck['year']} {truck['make']} {truck['model']}\" # in a function with f string\n",
    "\n",
    "truck_type()"
   ]
  },
  {
   "cell_type": "markdown",
   "metadata": {},
   "source": [
    "#### .get()"
   ]
  },
  {
   "cell_type": "code",
   "execution_count": 54,
   "metadata": {},
   "outputs": [
    {
     "name": "stdout",
     "output_type": "stream",
     "text": [
      "2018\n",
      "2018\n",
      "None\n",
      "red\n"
     ]
    }
   ],
   "source": [
    "# Slower than the bracket method ... but it has a HUGE advantage...\n",
    "\n",
    "truck = {\n",
    "    'year': 2018,\n",
    "    'make': 'Chevrolet',\n",
    "    'model': 'Silverado'\n",
    "}\n",
    "\n",
    "print(truck['year'])\n",
    "print(truck.get('year'))\n",
    "\n",
    "#print(truck['color']) # no color key exists so you get error\n",
    "print(truck.get('color')) # no color key exists so output is None\n",
    "print(truck.get('color', 'red')) # no color key exists so i can define color"
   ]
  },
  {
   "cell_type": "markdown",
   "metadata": {},
   "source": [
    "##### Adding New Pairs"
   ]
  },
  {
   "cell_type": "code",
   "execution_count": 55,
   "metadata": {},
   "outputs": [
    {
     "name": "stdout",
     "output_type": "stream",
     "text": [
      "{'year': 2022, 'make': 'Chevrolet', 'model': 'Silverado'}\n"
     ]
    }
   ],
   "source": [
    "truck = {\n",
    "    'year': 2018,\n",
    "    'make': 'Chevrolet',\n",
    "    'model': 'Silverado'\n",
    "}\n",
    "\n",
    "truck['year']= 2022\n",
    "print(truck)"
   ]
  },
  {
   "cell_type": "code",
   "execution_count": 56,
   "metadata": {},
   "outputs": [
    {
     "name": "stdout",
     "output_type": "stream",
     "text": [
      "{'year': 2022, 'make': 'Chevrolet', 'model': 'Silverado', 'color': 'Red'}\n"
     ]
    }
   ],
   "source": [
    "truck.update({\"color\":\"Red\"})\n",
    "print(truck)"
   ]
  },
  {
   "cell_type": "code",
   "execution_count": 57,
   "metadata": {},
   "outputs": [
    {
     "name": "stdout",
     "output_type": "stream",
     "text": [
      "{'year': 2022, 'make': 'Chevrolet', 'model': 'Silverado', 'color': 'Red', 'wheels': 4}\n"
     ]
    }
   ],
   "source": [
    "truck.update(wheels = 4)\n",
    "print(truck)"
   ]
  },
  {
   "cell_type": "markdown",
   "metadata": {},
   "source": [
    "##### Modifying Values"
   ]
  },
  {
   "cell_type": "code",
   "execution_count": 59,
   "metadata": {},
   "outputs": [
    {
     "name": "stdout",
     "output_type": "stream",
     "text": [
      "{'year': 2022, 'make': 'Honda', 'model': 'Silverado', 'color': 'Red', 'wheels': 4}\n",
      "{'year': 2022, 'make': 'Dodge', 'model': 'Silverado', 'color': 'Red', 'wheels': 4}\n"
     ]
    }
   ],
   "source": [
    "#dict[existing key] = new value\n",
    "# truck['year']= 2022\n",
    "\n",
    "#other way\n",
    "truck.update(make=\"Honda\")\n",
    "print(truck)\n",
    "truck.update({'make':'Dodge'})\n",
    "print(truck)"
   ]
  },
  {
   "cell_type": "code",
   "execution_count": 63,
   "metadata": {},
   "outputs": [
    {
     "name": "stdout",
     "output_type": "stream",
     "text": [
      "{'A': 3, 'B': 2, 'C': 4}\n",
      "{'A': 1, 'C': 4, 'B': 2}\n"
     ]
    }
   ],
   "source": [
    "d1={\"A\":1,\"B\":2}\n",
    "d2={\"A\":3,\"C\":4}\n",
    "d1.update(d2)\n",
    "print(d1)\n",
    "d1={\"A\":1,\"B\":2}\n",
    "d2={\"A\":3,\"C\":4}\n",
    "d2.update(d1)\n",
    "print(d2)"
   ]
  },
  {
   "cell_type": "markdown",
   "metadata": {},
   "source": [
    "##### Removing Key, Value Pairs"
   ]
  },
  {
   "cell_type": "code",
   "execution_count": 64,
   "metadata": {
    "scrolled": true
   },
   "outputs": [
    {
     "name": "stdout",
     "output_type": "stream",
     "text": [
      "{'year': 2022, 'make': 'Dodge', 'model': 'Silverado', 'color': 'Red', 'wheels': 4}\n"
     ]
    }
   ],
   "source": [
    "# del dict[key]\n",
    "print(truck)"
   ]
  },
  {
   "cell_type": "code",
   "execution_count": 65,
   "metadata": {},
   "outputs": [
    {
     "name": "stdout",
     "output_type": "stream",
     "text": [
      "{'year': 2022, 'make': 'Dodge', 'model': 'Silverado', 'color': 'Red'}\n"
     ]
    }
   ],
   "source": [
    "del truck['wheels']\n",
    "print(truck)"
   ]
  },
  {
   "cell_type": "markdown",
   "metadata": {},
   "source": [
    "##### Looping a Dictionary"
   ]
  },
  {
   "cell_type": "code",
   "execution_count": 68,
   "metadata": {},
   "outputs": [
    {
     "name": "stdout",
     "output_type": "stream",
     "text": [
      "year has a value of 2022\n",
      "make has a value of Dodge\n",
      "model has a value of Silverado\n",
      "color has a value of Red\n"
     ]
    }
   ],
   "source": [
    "# .items()\n",
    "# a, b, c = 1, 2, 3\n",
    "# print(a)\n",
    "# print(b)\n",
    "# print(c)\n",
    "\n",
    "for key in truck: #This loops through the keys ... The Best way to loop through the keys\n",
    "    print(key, \"has a value of\", truck[key])"
   ]
  },
  {
   "cell_type": "code",
   "execution_count": null,
   "metadata": {},
   "outputs": [],
   "source": []
  },
  {
   "cell_type": "markdown",
   "metadata": {},
   "source": [
    "##### Looping Only Keys"
   ]
  },
  {
   "cell_type": "code",
   "execution_count": 6,
   "metadata": {},
   "outputs": [],
   "source": [
    "# .keys()\n"
   ]
  },
  {
   "cell_type": "markdown",
   "metadata": {},
   "source": [
    "##### Looping Only Values"
   ]
  },
  {
   "cell_type": "code",
   "execution_count": 7,
   "metadata": {},
   "outputs": [],
   "source": [
    "# .values()\n"
   ]
  },
  {
   "cell_type": "markdown",
   "metadata": {},
   "source": [
    "## In-Class Exercise #2 - Create a Function that Prints All Key Value Pairs within a print .format() <br>\n",
    "<p><b>Output should be:</b><br>\n",
    "Max has blue eyes<br>\n",
    "Lilly has brown eyes<br>\n",
    "Barney has blue eyes<br>\n",
    "etc.\n",
    "</p>"
   ]
  },
  {
   "cell_type": "code",
   "execution_count": 8,
   "metadata": {},
   "outputs": [],
   "source": [
    "# use the dict below\n",
    "\n",
    "people = {\n",
    "    'Max': 'blue',\n",
    "    'Lilly': 'brown',\n",
    "    'Barney': 'blue',\n",
    "    'Larney': 'brown',\n",
    "    'Ted': 'purple'\n",
    "}\n"
   ]
  },
  {
   "cell_type": "markdown",
   "metadata": {},
   "source": [
    "##### sorted()"
   ]
  },
  {
   "cell_type": "code",
   "execution_count": 9,
   "metadata": {},
   "outputs": [],
   "source": [
    "# sorts variables in order\n",
    "# sorted(dict.values()) or dict.keys() or dict.items()\n"
   ]
  },
  {
   "cell_type": "markdown",
   "metadata": {},
   "source": [
    "##### List with Dictionaries"
   ]
  },
  {
   "cell_type": "code",
   "execution_count": 10,
   "metadata": {},
   "outputs": [],
   "source": [
    "names = ['dave', 'randy','greg', {'random_guy': 'robert', 'another_guy': 'travis'}]\n"
   ]
  },
  {
   "cell_type": "markdown",
   "metadata": {},
   "source": [
    "##### Dictionaries with Lists"
   ]
  },
  {
   "cell_type": "code",
   "execution_count": 11,
   "metadata": {},
   "outputs": [],
   "source": [
    "# be careful when using numbers as keys in dictionaries, don't confuse them with indexes\n"
   ]
  },
  {
   "cell_type": "markdown",
   "metadata": {},
   "source": [
    "##### Dictionaries with Dictionaries"
   ]
  },
  {
   "cell_type": "code",
   "execution_count": 12,
   "metadata": {},
   "outputs": [],
   "source": [
    "# to get values, must traverse through keys\n"
   ]
  },
  {
   "cell_type": "markdown",
   "metadata": {},
   "source": [
    "## Using Python's Hashing Function"
   ]
  },
  {
   "cell_type": "code",
   "execution_count": 13,
   "metadata": {},
   "outputs": [],
   "source": [
    "# hash(var)\n"
   ]
  },
  {
   "cell_type": "markdown",
   "metadata": {},
   "source": [
    "## Exercise #3 - Write a Function that asks someone's name and address, and then stores that into a dictionary, and continues to do so until they choose to 'quit'. Once they quit, the program should print all names and addresses. <br>\n",
    "<p>\n",
    "<b>Proper steps:</b><br>\n",
    "step 1: write a function that takes in information and stores it in a dictionary<br>\n",
    "step 2: define an empty dictionary to work with<br>\n",
    "step 3: create our loop, which asks the user for information until they quit<br>\n",
    "step 4: ask for the information, and store it into variables<br>\n",
    "step 5: check if the user types quit<br>\n",
    "step 5a: print out all information<br>\n",
    "step 5b: break out of the loop<br>\n",
    "step 6: if they didn't quit, add the information to the dictionary<br>\n",
    "step 7: invoke the function by calling it\n",
    "</p>"
   ]
  },
  {
   "cell_type": "code",
   "execution_count": 14,
   "metadata": {},
   "outputs": [],
   "source": [
    "from IPython.display import clear_output #This module will clear all pre-exising output form your program"
   ]
  },
  {
   "cell_type": "markdown",
   "metadata": {},
   "source": [
    "## Set <br>\n",
    "<p>A Set is an unordered collection data type that is iterable (loop), mutable, and has no duplicate elements.<br>Major advantage is that it is highly optimized in checking if something is in the set, as opposed to checking if something is in a list.</p>"
   ]
  },
  {
   "cell_type": "markdown",
   "metadata": {},
   "source": [
    "##### Declaring"
   ]
  },
  {
   "cell_type": "code",
   "execution_count": 15,
   "metadata": {},
   "outputs": [],
   "source": [
    "# set() or {}\n",
    "# no order {3, 2, 1} outputs as {1, 2, 3}\n"
   ]
  },
  {
   "cell_type": "markdown",
   "metadata": {},
   "source": [
    "##### .add()"
   ]
  },
  {
   "cell_type": "code",
   "execution_count": 16,
   "metadata": {},
   "outputs": [],
   "source": [
    "# set.add()\n"
   ]
  },
  {
   "cell_type": "markdown",
   "metadata": {},
   "source": [
    "##### .remove()"
   ]
  },
  {
   "cell_type": "code",
   "execution_count": 17,
   "metadata": {},
   "outputs": [],
   "source": [
    "# removes by value\n",
    "# set.remove()\n",
    "# nums.remove(56)\n",
    "\n"
   ]
  },
  {
   "cell_type": "markdown",
   "metadata": {},
   "source": [
    "##### .union() "
   ]
  },
  {
   "cell_type": "code",
   "execution_count": 18,
   "metadata": {},
   "outputs": [],
   "source": [
    "# Returns a union of two sets, can also use '|' or set.union(set)\n",
    "# joins all numbers, gets rid of duplicates\n",
    "set1 = {1,2,3,4}\n",
    "set2 = {3,4,5,6}\n",
    "\n"
   ]
  },
  {
   "cell_type": "markdown",
   "metadata": {},
   "source": [
    "##### .intersection()"
   ]
  },
  {
   "cell_type": "code",
   "execution_count": 19,
   "metadata": {},
   "outputs": [],
   "source": [
    "# Returns an intersection of two sets, can also use '&'\n",
    "# only takes similar elements from both sets\n",
    "set1 = {1,2,3,4}\n",
    "set2 = {1,2,3,4}\n"
   ]
  },
  {
   "cell_type": "markdown",
   "metadata": {},
   "source": [
    "##### .difference()"
   ]
  },
  {
   "cell_type": "code",
   "execution_count": 20,
   "metadata": {},
   "outputs": [],
   "source": [
    "# Returns a set containing all the elements of invoking set that are not in the second set, can also use '-'\n",
    "# only takes values from the first set that are not in the second set\n",
    "# order matters\n",
    "\n",
    "set1 = {1,2,3,4}\n",
    "set2 = {1,2,3,4}\n"
   ]
  },
  {
   "cell_type": "markdown",
   "metadata": {},
   "source": [
    "##### .clear()"
   ]
  },
  {
   "cell_type": "code",
   "execution_count": 21,
   "metadata": {},
   "outputs": [],
   "source": [
    "# Empties the whole set\n",
    "# set.clear()\n"
   ]
  },
  {
   "cell_type": "markdown",
   "metadata": {},
   "source": [
    "##### Frozenset <br>\n",
    "<p>Frozen sets are immutable objects that only support methods and operators that produce a result without affecting the frozen set or sets to which they are applied.</p><br><b>Unique & Immutable</b>"
   ]
  },
  {
   "cell_type": "code",
   "execution_count": 22,
   "metadata": {},
   "outputs": [],
   "source": [
    "# frozenset([])\n",
    "s3 = {1,2,3,4,5,6}\n"
   ]
  },
  {
   "cell_type": "markdown",
   "metadata": {},
   "source": [
    "## Modules"
   ]
  },
  {
   "cell_type": "markdown",
   "metadata": {},
   "source": [
    "##### Importing Entire Modules"
   ]
  },
  {
   "cell_type": "code",
   "execution_count": 23,
   "metadata": {},
   "outputs": [],
   "source": [
    "# import or from 'xxx' import *\n",
    "# import math\n",
    "\n"
   ]
  },
  {
   "cell_type": "markdown",
   "metadata": {},
   "source": [
    "##### Importing Methods Only"
   ]
  },
  {
   "cell_type": "code",
   "execution_count": 24,
   "metadata": {},
   "outputs": [],
   "source": [
    "# from 'xxx' import 'xxx'\n",
    "# from math import floor\n"
   ]
  },
  {
   "cell_type": "markdown",
   "metadata": {},
   "source": [
    "##### Using the 'as' Keyword"
   ]
  },
  {
   "cell_type": "code",
   "execution_count": 25,
   "metadata": {},
   "outputs": [],
   "source": [
    "# from 'xxx' import 'xxx' as 'xxx' or import 'xxx' as 'xxx'\n",
    "# from math import floor as f\n"
   ]
  },
  {
   "cell_type": "markdown",
   "metadata": {},
   "source": [
    "##### Creating a Module"
   ]
  },
  {
   "cell_type": "code",
   "execution_count": null,
   "metadata": {},
   "outputs": [],
   "source": []
  },
  {
   "cell_type": "markdown",
   "metadata": {},
   "source": [
    "# Exercises"
   ]
  },
  {
   "cell_type": "markdown",
   "metadata": {},
   "source": [
    "### 1) Build a Shopping Cart <br>\n",
    "<p><b>You can use either lists or dictionaries. The program should have the following capabilities:</b><br><br>\n",
    "1) Takes in input <br>\n",
    "2) Stores user input into a dictionary or list <br>\n",
    "3) The User can add or delete items <br>\n",
    "4) The User can see current shopping list <br>\n",
    "5) The program Loops until user 'quits' <br>\n",
    "6) Upon quiting the program, print out all items in the user's list <br>\n",
    "</p>"
   ]
  },
  {
   "cell_type": "code",
   "execution_count": 26,
   "metadata": {},
   "outputs": [],
   "source": [
    "from IPython.display import clear_output\n",
    "\n",
    "# Ask the user four bits of input: Do you want to : Show/Add/Delete or Quit?"
   ]
  },
  {
   "cell_type": "markdown",
   "metadata": {},
   "source": [
    "### 2) Create a Module in VS Code and Import It into jupyter notebook <br>\n",
    "<p><b>Module should have the following capabilities:</b><br><br>\n",
    "1) Has a function to calculate the square footage of a house <br>\n",
    "    <b>Reminder of Formula: Length X Width == Area<br>\n",
    "        <hr>\n",
    "2) Has a function to calculate the circumference of a circle <br><br>\n",
    "<b>Program in Jupyter Notebook should take in user input and use imported functions to calculate a circle's circumference or a houses square footage</b>\n",
    "</p>"
   ]
  },
  {
   "cell_type": "code",
   "execution_count": null,
   "metadata": {},
   "outputs": [],
   "source": []
  }
 ],
 "metadata": {
  "kernelspec": {
   "display_name": "Python 3 (ipykernel)",
   "language": "python",
   "name": "python3"
  },
  "language_info": {
   "codemirror_mode": {
    "name": "ipython",
    "version": 3
   },
   "file_extension": ".py",
   "mimetype": "text/x-python",
   "name": "python",
   "nbconvert_exporter": "python",
   "pygments_lexer": "ipython3",
   "version": "3.9.7"
  }
 },
 "nbformat": 4,
 "nbformat_minor": 2
}
